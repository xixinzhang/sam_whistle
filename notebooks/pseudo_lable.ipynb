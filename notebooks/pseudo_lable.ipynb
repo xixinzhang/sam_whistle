{
 "cells": [
  {
   "cell_type": "code",
   "execution_count": 5,
   "metadata": {},
   "outputs": [],
   "source": [
    "import numpy as np\n",
    "import torch\n",
    "import matplotlib.pyplot as plt\n",
    "import cv2\n",
    "from torch.utils.data import DataLoader\n",
    "import os\n",
    "import argparse\n",
    "\n",
    "from sam_whistle.dataset import WhistleDataset\n",
    "from sam_whistle.config import Args"
   ]
  },
  {
   "cell_type": "code",
   "execution_count": 8,
   "metadata": {},
   "outputs": [
    {
     "name": "stdout",
     "output_type": "stream",
     "text": [
      "Args(project=None, exp_name=None, path='/home/asher/Desktop/projects/sam_whistle/data/dclde', preprocess=False, n_fft=None, hop_length=None, frame_ms=8, hop_ms=2, split_ms=3000, num_pos_points=10, num_neg_points=10)\n"
     ]
    }
   ],
   "source": [
    "args = Args()\n",
    "dataset = WhistleDataset(args, 'train')\n",
    "dataloader = DataLoader(dataset, batch_size=1, shuffle=True, num_workers=os.cpu_count(),)"
   ]
  },
  {
   "cell_type": "code",
   "execution_count": 9,
   "metadata": {},
   "outputs": [
    {
     "name": "stdout",
     "output_type": "stream",
     "text": [
      "torch.float32 torch.Size([1, 769, 1500, 3])\n"
     ]
    }
   ],
   "source": [
    "for i, data in enumerate(dataloader):\n",
    "    spect, bboxes, masks, contours = data\n",
    "    print(spect.dtype, spect.shape)\n",
    "    break"
   ]
  }
 ],
 "metadata": {
  "kernelspec": {
   "display_name": "sam",
   "language": "python",
   "name": "python3"
  },
  "language_info": {
   "codemirror_mode": {
    "name": "ipython",
    "version": 3
   },
   "file_extension": ".py",
   "mimetype": "text/x-python",
   "name": "python",
   "nbconvert_exporter": "python",
   "pygments_lexer": "ipython3",
   "version": "3.12.4"
  }
 },
 "nbformat": 4,
 "nbformat_minor": 2
}
