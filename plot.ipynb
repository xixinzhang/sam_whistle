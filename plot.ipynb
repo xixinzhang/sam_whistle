{
 "cells": [
  {
   "cell_type": "code",
   "execution_count": 1,
   "metadata": {},
   "outputs": [],
   "source": [
    "import seaborn as sns\n",
    "import matplotlib.pyplot as plt\n",
    "import pickle\n",
    "from sam_whistle import utils\n",
    "%load_ext autoreload\n",
    "%autoreload 2"
   ]
  },
  {
   "cell_type": "code",
   "execution_count": 2,
   "metadata": {},
   "outputs": [
    {
     "data": {
      "image/png": "[encoded data removed]",
      "text/plain": [
       "<Figure size 1400x100 with 1 Axes>"
      ]
     },
     "metadata": {},
     "output_type": "display_data"
    }
   ],
   "source": [
    "colors = [\"#D56767\", \"#7294D4\", \"#78A58C\", \"#9B6B9E\", \"#E2975D\", \"#E64B35\", \"#4DBBD5\",\"#3C5488\", \"#00A087\", \"#17becf\", \"#a55194\", \"#393b79\", \"#8c6d31\", \"#9edae5\"]\n",
    "sns.palplot(sns.color_palette(colors))\n",
    "plt.title('Custom Color Palette')\n",
    "plt.show()"
   ]
  },
  {
   "cell_type": "markdown",
   "metadata": {},
   "source": [
    "### confidence map"
   ]
  },
  {
   "cell_type": "code",
   "execution_count": 3,
   "metadata": {},
   "outputs": [],
   "source": [
    "eval_results = [\n",
    "    'logs/01-21-2025_19-51-29-sam/sam_results.pkl',\n",
    "    'logs/01-21-2025_19-24-29-deep_whistle/deep_results.pkl',\n",
    "    'logs/01-21-2025_19-52-54-fcn_spect/fcn_spect_results.pkl',\n",
    "    'logs/01-21-2025_13-30-49-fcn_encoder/fcn_encoder_results.pkl'\n",
    "]\n",
    "eval_res_li = [pickle.load(open(res_file, 'rb')) for res_file in eval_results]\n",
    "utils.plot_pr_curve(eval_res_li, 'imgs', 'pr_curve_pix.png')"
   ]
  },
  {
   "cell_type": "code",
   "execution_count": 4,
   "metadata": {},
   "outputs": [
    {
     "name": "stdout",
     "output_type": "stream",
     "text": [
      "palmyra092007FS192-070924-205305\n",
      "palmyra092007FS192-070924-205730\n",
      "Qx-Dc-CC0411-TAT11-CH2-041114-154040-s\n",
      "QX-Dc-FLIP0610-VLA-061015-165000\n",
      "Qx-Dc-SC03-TAT09-060516-171606\n",
      "Qx-Tt-SCI0608-N1-060814-121518\n"
     ]
    }
   ],
   "source": [
    "for stem in ['palmyra092007FS192-070924-205305','palmyra092007FS192-070924-205730', 'Qx-Dc-CC0411-TAT11-CH2-041114-154040-s', 'QX-Dc-FLIP0610-VLA-061015-165000', 'Qx-Dc-SC03-TAT09-060516-171606', 'Qx-Tt-SCI0608-N1-060814-121518']:\n",
    "    print(stem)\n",
    "    eval_results = [\n",
    "                f'logs/01-21-2025_19-51-29-sam/sam_results_pix-{stem}.pkl',\n",
    "                f'logs/01-21-2025_19-24-29-deep_whistle/deep_results_pix-{stem}.pkl',\n",
    "                f'logs/01-21-2025_19-52-54-fcn_spect/fcn_spect_results_pix-{stem}.pkl',\n",
    "                f'logs/01-21-2025_19-51-03-fcn_encoder/fcn_encoder_results_pix-{stem}.pkl',\n",
    "                # f'logs/graph_search/graph_search_results_pix-{stem}.pkl',\n",
    "            ]\n",
    "    eval_res_li = [pickle.load(open(res_file, 'rb')) for res_file in eval_results]\n",
    "    utils.plot_pr_curve(eval_res_li, 'imgs', f'pr_curve_pix_{stem}.png', )\n",
    "    # utils.plot_pr_curve(eval_res_li, 'imgs', 'pr_curve_tonal_corner.png', xlim_min=0.5,  ylim_min=0.5, legend = False)"
   ]
  },
  {
   "cell_type": "markdown",
   "metadata": {},
   "source": [
    "### tonal map"
   ]
  },
  {
   "cell_type": "code",
   "execution_count": 5,
   "metadata": {},
   "outputs": [],
   "source": [
    "eval_results = [\n",
    "            'logs/01-21-2025_19-51-29-sam/sam_results_tonal_all.pkl',\n",
    "            # 'logs/12-07-2024_16-13-46-zscore/sam_results_tonal_all.pkl',\n",
    "            'logs/01-21-2025_19-24-29-deep_whistle/deep_results_tonal_all.pkl',\n",
    "            'logs/01-21-2025_19-52-54-fcn_spect/fcn_spect_results_tonal_all.pkl',\n",
    "            'logs/01-21-2025_19-51-03-fcn_encoder/fcn_encoder_results_tonal_all.pkl',\n",
    "            'logs/graph_search/graph_search_results_tonal_all.pkl',\n",
    "        ]\n",
    "eval_res_li = [pickle.load(open(res_file, 'rb')) for res_file in eval_results]\n",
    "utils.plot_pr_curve(eval_res_li, 'imgs', 'pr_curve_tonal.png', )\n",
    "# utils.plot_pr_curve(eval_res_li, 'imgs', 'pr_curve_tonal_corner.png', xlim_min=0.5,  ylim_min=0.5, legend = False)\n"
   ]
  },
  {
   "cell_type": "code",
   "execution_count": null,
   "metadata": {},
   "outputs": [
    {
     "name": "stdout",
     "output_type": "stream",
     "text": [
      "palmyra092007FS192-070924-205305\n",
      "palmyra092007FS192-070924-205730\n",
      "Qx-Dc-CC0411-TAT11-CH2-041114-154040-s\n",
      "QX-Dc-FLIP0610-VLA-061015-165000\n",
      "Qx-Dc-SC03-TAT09-060516-171606\n",
      "Qx-Tt-SCI0608-N1-060814-121518\n"
     ]
    },
    {
     "ename": "",
     "evalue": "",
     "output_type": "error",
     "traceback": [
      "\u001b[1;31mThe Kernel crashed while executing code in the current cell or a previous cell. \n",
      "\u001b[1;31mPlease review the code in the cell(s) to identify a possible cause of the failure. \n",
      "\u001b[1;31mClick <a href='https://aka.ms/vscodeJupyterKernelCrash'>here</a> for more info. \n",
      "\u001b[1;31mView Jupyter <a href='command:jupyter.viewOutput'>log</a> for further details."
     ]
    }
   ],
   "source": [
    "for stem in ['palmyra092007FS192-070924-205305','palmyra092007FS192-070924-205730', 'Qx-Dc-CC0411-TAT11-CH2-041114-154040-s', 'QX-Dc-FLIP0610-VLA-061015-165000', 'Qx-Dc-SC03-TAT09-060516-171606', 'Qx-Tt-SCI0608-N1-060814-121518']:\n",
    "    print(stem)\n",
    "    eval_results = [\n",
    "                f'logs/01-21-2025_19-51-29-sam/sam_results_tonal_{stem}.pkl',\n",
    "                f'logs/01-21-2025_19-24-29-deep_whistle/deep_results_tonal_{stem}.pkl',\n",
    "                f'logs/01-21-2025_19-52-54-fcn_spect/fcn_spect_results_tonal_{stem}.pkl',\n",
    "                f'logs/01-21-2025_19-51-03-fcn_encoder/fcn_encoder_results_tonal_{stem}.pkl',\n",
    "                f'logs/graph_search/graph_search_results_tonal_{stem}.pkl',\n",
    "            ]\n",
    "    eval_res_li = [pickle.load(open(res_file, 'rb')) for res_file in eval_results]\n",
    "    utils.plot_pr_curve(eval_res_li, 'imgs', f'pr_curve_tonal_{stem}.png', )\n",
    "    # utils.plot_pr_curve(eval_res_li, 'imgs', 'pr_curve_tonal_corner.png', xlim_min=0.5,  ylim_min=0.5, legend = False)\n"
   ]
  }
 ],
 "metadata": {
  "kernelspec": {
   "display_name": "sam_whistle",
   "language": "python",
   "name": "python3"
  },
  "language_info": {
   "codemirror_mode": {
    "name": "ipython",
    "version": 3
   },
   "file_extension": ".py",
   "mimetype": "text/x-python",
   "name": "python",
   "nbconvert_exporter": "python",
   "pygments_lexer": "ipython3",
   "version": "3.12.7"
  }
 },
 "nbformat": 4,
 "nbformat_minor": 2
}
