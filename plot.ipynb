{
 "cells": [
  {
   "cell_type": "code",
   "execution_count": 1,
   "metadata": {},
   "outputs": [],
   "source": [
    "import seaborn as sns\n",
    "import matplotlib.pyplot as plt\n",
    "import pickle\n",
    "from sam_whistle import utils\n",
    "import os\n",
    "import numpy as np\n",
    "%load_ext autoreload\n",
    "%autoreload 2"
   ]
  },
  {
   "cell_type": "code",
   "execution_count": 9,
   "metadata": {},
   "outputs": [
    {
     "data": {
      "image/png": "[encoded data removed]",
      "text/plain": [
       "<Figure size 600x100 with 1 Axes>"
      ]
     },
     "metadata": {},
     "output_type": "display_data"
    }
   ],
   "source": [
    "instance_colors = [\n",
    "    '#ff0000',   # Pure red\n",
    "    '#00ff00',   # Pure green\n",
    "    '#ff00ff',   # Magenta\n",
    "    '#ffd700',   # Gold\n",
    "    '#00ffff',   # Cyan\n",
    "    '#ff8c00'    # Dark orange\n",
    "]\n",
    "sns.palplot(sns.color_palette(instance_colors))\n",
    "plt.title('Custom Color Palette')\n",
    "plt.show()"
   ]
  },
  {
   "cell_type": "code",
   "execution_count": 2,
   "metadata": {},
   "outputs": [
    {
     "data": {
      "image/png": "[encoded data removed]",
      "text/plain": [
       "<Figure size 800x100 with 1 Axes>"
      ]
     },
     "metadata": {},
     "output_type": "display_data"
    }
   ],
   "source": [
    "husl_colors = [\n",
    "        '#F27474',  # First HUSL color\n",
    "        '#4CB5A9',  # Second HUSL color  \n",
    "        '#5D8FD4',  # Third HUSL color\n",
    "        '#9C7ED1',  # Fourth HUSL color\n",
    "        '#E283BA',  # Fifth HUSL color\n",
    "        '#E6A064',  # Sixth HUSL color\n",
    "        '#82C168',  # Seventh HUSL color\n",
    "        '#BAB258'   # Eighth HUSL color\n",
    "    ]\n",
    "sns.palplot(sns.color_palette(husl_colors))\n",
    "plt.title('Custom Color Palette')\n",
    "plt.show()"
   ]
  },
  {
   "cell_type": "markdown",
   "metadata": {},
   "source": [
    "### confidence map"
   ]
  },
  {
   "cell_type": "code",
   "execution_count": 3,
   "metadata": {},
   "outputs": [],
   "source": [
    "eval_results = [\n",
    "    'logs/01-21-2025_19-51-29-sam/sam_results.pkl',\n",
    "    'logs/01-21-2025_19-24-29-deep_whistle/deep_results.pkl',\n",
    "    'logs/01-21-2025_19-52-54-fcn_spect/fcn_spect_results.pkl',\n",
    "    'logs/01-21-2025_13-30-49-fcn_encoder/fcn_encoder_results.pkl'\n",
    "]\n",
    "eval_res_li = [pickle.load(open(res_file, 'rb')) for res_file in eval_results]\n",
    "utils.plot_pr_curve(eval_res_li, 'imgs', 'pr_curve_pix.png',colors=husl_colors)"
   ]
  },
  {
   "cell_type": "code",
   "execution_count": 4,
   "metadata": {},
   "outputs": [
    {
     "name": "stdout",
     "output_type": "stream",
     "text": [
      "palmyra092007FS192-070924-205305\n",
      "palmyra092007FS192-070924-205730\n",
      "Qx-Dc-CC0411-TAT11-CH2-041114-154040-s\n",
      "QX-Dc-FLIP0610-VLA-061015-165000\n",
      "Qx-Dc-SC03-TAT09-060516-171606\n",
      "Qx-Tt-SCI0608-N1-060814-121518\n"
     ]
    }
   ],
   "source": [
    "for stem in ['palmyra092007FS192-070924-205305','palmyra092007FS192-070924-205730', 'Qx-Dc-CC0411-TAT11-CH2-041114-154040-s', 'QX-Dc-FLIP0610-VLA-061015-165000', 'Qx-Dc-SC03-TAT09-060516-171606', 'Qx-Tt-SCI0608-N1-060814-121518']:\n",
    "    print(stem)\n",
    "    eval_results = [\n",
    "                f'logs/01-21-2025_19-51-29-sam/sam_results_pix-{stem}.pkl',\n",
    "                f'logs/01-21-2025_19-24-29-deep_whistle/deep_results_pix-{stem}.pkl',\n",
    "                f'logs/01-21-2025_19-52-54-fcn_spect/fcn_spect_results_pix-{stem}.pkl',\n",
    "                f'logs/01-21-2025_19-51-03-fcn_encoder/fcn_encoder_results_pix-{stem}.pkl',\n",
    "                # f'logs/graph_search/graph_search_results_pix-{stem}.pkl',\n",
    "            ]\n",
    "    eval_res_li = [pickle.load(open(res_file, 'rb')) for res_file in eval_results]\n",
    "    utils.plot_pr_curve(eval_res_li, 'imgs', f'pr_curve_pix_{stem}.png',colors=husl_colors)"
   ]
  },
  {
   "cell_type": "markdown",
   "metadata": {},
   "source": [
    "### tonal map"
   ]
  },
  {
   "cell_type": "code",
   "execution_count": 4,
   "metadata": {},
   "outputs": [
    {
     "name": "stdout",
     "output_type": "stream",
     "text": [
      "{'Precision': {'means': [0.9228156821969207, 0.8940934951543765, 0.6535251050002084, 0.9237677702392892, 0.8359273779698714], 'stds': [0.004005888207033611, 0.09352362702149954, 0.23636556246505658, 0.009906047208804333, 0.0169055596242861]}, 'Recall': {'means': [0.8591976744186047, 0.754395348837209, 0.5075, 0.5599883720930233, 0.6268218859138533], 'stds': [0.007443849661471217, 0.10824133492961231, 0.17427687070750938, 0.006501435128835102, 0.020959978613392397]}, 'F1': {'means': [0.8898375403806031, 0.807371275865081, 0.533522777227732, 0.6972388239279355, 0.7159991147252427], 'stds': [0.002840806842462997, 0.061066166033854306, 0.18686700360546332, 0.00552541532542278, 0.010973836010192533]}}\n"
     ]
    }
   ],
   "source": [
    "eval_results = [\n",
    "            'logs/01-21-2025_19-51-29-sam/sam_results_tonal_all.pkl',\n",
    "            # 'logs/12-07-2024_16-13-46-zscore/sam_results_tonal_all.pkl',\n",
    "            'logs/01-21-2025_19-24-29-deep_whistle/deep_results_tonal_all.pkl',\n",
    "            'logs/01-21-2025_19-52-54-fcn_spect/fcn_spect_results_tonal_all.pkl',\n",
    "            'logs/01-21-2025_19-51-03-fcn_encoder/fcn_encoder_results_tonal_all.pkl',\n",
    "            'logs/graph_search/graph_search_results_tonal_all.pkl',\n",
    "        ]\n",
    "eval_res_li = [pickle.load(open(res_file, 'rb')) for res_file in eval_results]\n",
    "utils.plot_pr_curve(eval_res_li, 'imgs', 'pr_curve_tonal.png', colors=husl_colors)\n",
    "utils.plot_grouped_metrics(eval_res_li, 'imgs', 'pr_robust_tonal.png', colors=husl_colors)\n"
   ]
  },
  {
   "cell_type": "code",
   "execution_count": 6,
   "metadata": {},
   "outputs": [
    {
     "name": "stdout",
     "output_type": "stream",
     "text": [
      "palmyra092007FS192-070924-205305\n",
      "palmyra092007FS192-070924-205730\n",
      "Qx-Dc-CC0411-TAT11-CH2-041114-154040-s\n",
      "QX-Dc-FLIP0610-VLA-061015-165000\n",
      "Qx-Dc-SC03-TAT09-060516-171606\n",
      "Qx-Tt-SCI0608-N1-060814-121518\n"
     ]
    }
   ],
   "source": [
    "for stem in ['palmyra092007FS192-070924-205305','palmyra092007FS192-070924-205730', 'Qx-Dc-CC0411-TAT11-CH2-041114-154040-s', 'QX-Dc-FLIP0610-VLA-061015-165000', 'Qx-Dc-SC03-TAT09-060516-171606', 'Qx-Tt-SCI0608-N1-060814-121518']:\n",
    "    print(stem)\n",
    "    eval_results = [\n",
    "                f'logs/01-21-2025_19-51-29-sam/sam_results_tonal_{stem}.pkl',\n",
    "                f'logs/01-21-2025_19-24-29-deep_whistle/deep_results_tonal_{stem}.pkl',\n",
    "                f'logs/01-21-2025_19-52-54-fcn_spect/fcn_spect_results_tonal_{stem}.pkl',\n",
    "                f'logs/01-21-2025_19-51-03-fcn_encoder/fcn_encoder_results_tonal_{stem}.pkl',\n",
    "                f'logs/graph_search/graph_search_results_tonal_{stem}.pkl',\n",
    "            ]\n",
    "    eval_res_li = [pickle.load(open(res_file, 'rb')) for res_file in eval_results]\n",
    "    utils.plot_pr_curve(eval_res_li, 'imgs', f'pr_curve_tonal_{stem}.png',colors=husl_colors)\n",
    "    # utils.plot_pr_curve(eval_res_li, 'imgs', 'pr_curve_tonal_corner.png', xlim_min=0.5,  ylim_min=0.5, legend = False)\n"
   ]
  },
  {
   "cell_type": "code",
   "execution_count": 17,
   "metadata": {},
   "outputs": [],
   "source": [
    "def plot_radar_metrics(models_data: dict, fig_dir: str, figname='radar_metrics.jpg', colors=None):\n",
    "    \"\"\"\n",
    "    Plot radar chart comparing models across all metrics with improved normalization\n",
    "    and layout.\n",
    "    \n",
    "    Parameters:\n",
    "    models_data (dict): Dictionary containing model names and their metrics\n",
    "    fig_dir (str): Directory to save the figure\n",
    "    figname (str): Name of the output figure file\n",
    "    \"\"\"\n",
    "    import numpy as np\n",
    "    import matplotlib.pyplot as plt\n",
    "    \n",
    "    # Set the style to match Nature's guidelines\n",
    "    plt.style.use('seaborn-v0_8-white')\n",
    "    \n",
    "    # Set font to Arial (Nature's preferred font)\n",
    "    plt.rcParams['font.family'] = 'sans-serif'\n",
    "    plt.rcParams['font.sans-serif'] = ['Arial']\n",
    "    \n",
    "    # Create figure with high DPI for print quality\n",
    "    fig = plt.figure(figsize=(5, 5), dpi=300)  # Increased figure size\n",
    "    ax = fig.add_subplot(111, projection='polar')\n",
    "    \n",
    "    # Prepare data\n",
    "    models = ['SAM-Whistle', 'Deep-Whistle', 'FCN-Spect', 'FCN-Encoder', 'Graph Search']\n",
    "    metrics = ['Precision', 'Recall', 'F1', 'Deviation', 'Coverage', 'Frag.']\n",
    "    \n",
    "    if colors is None:\n",
    "        colors = plt.cm.Set2(np.linspace(0, 1, len(models)))  # Changed to Set2 colormap\n",
    "    else:\n",
    "        colors = sns.color_palette(colors)\n",
    "    \n",
    "    # Number of variables\n",
    "    num_vars = len(metrics)\n",
    "    \n",
    "    # Compute angle for each axis\n",
    "    angles = [n / float(num_vars) * 2 * np.pi for n in range(num_vars)]\n",
    "    angles += angles[:1]  # Complete the circle\n",
    "    \n",
    "    # Initialize the spider plot\n",
    "    ax.set_theta_offset(np.pi / 2)  # Rotate to start at top\n",
    "    ax.set_theta_direction(-1)  # Go clockwise\n",
    "    \n",
    "    # Draw axis lines for each angle and label\n",
    "    ax.set_xticks(angles[:-1])\n",
    "    ax.set_xticklabels(metrics, fontsize = 15)\n",
    "    \n",
    "    # Adjust label positions to prevent overlap\n",
    "    for label, angle in zip(ax.get_xticklabels(), angles):\n",
    "        if angle in (0, np.pi):\n",
    "            label.set_horizontalalignment('center')\n",
    "        elif 0 < angle < np.pi:\n",
    "            label.set_horizontalalignment('left')\n",
    "        else:\n",
    "            label.set_horizontalalignment('right')\n",
    "        \n",
    "        # Move labels further from the plot\n",
    "        label.set_position((1.3, 0))  # Increased distance from center\n",
    "        label.set_fontsize(15)\n",
    "    \n",
    "    # Custom normalization function\n",
    "    def normalize_metric(value, min_val, max_val, lower_is_better=False):\n",
    "        # Ensure we don't divide by zero\n",
    "        if max_val == min_val:\n",
    "            return 0.5\n",
    "        \n",
    "        # Scale to 0.2-1.0 range to avoid zeros\n",
    "        normalized = (value - min_val) / (max_val - min_val) * 0.8 + 0.2\n",
    "        \n",
    "        if lower_is_better:\n",
    "            normalized = 1.2 - normalized  # Invert while maintaining 0.2-1.0 range\n",
    "        \n",
    "        return normalized\n",
    "    \n",
    "    # First pass: Plot filled areas and lines\n",
    "    for idx, model in enumerate(models):\n",
    "        # Get min and max values for each metric\n",
    "        metric_ranges = {\n",
    "            metric: (\n",
    "                min(m[metric] for m in models_data.values()),\n",
    "                max(m[metric] for m in models_data.values())\n",
    "            ) for metric in metrics\n",
    "        }\n",
    "        \n",
    "        # Normalize values with custom function\n",
    "        values = [\n",
    "            normalize_metric(\n",
    "                models_data[model][metric],\n",
    "                metric_ranges[metric][0],\n",
    "                metric_ranges[metric][1],\n",
    "                lower_is_better=(metric in ['Deviation', 'Frag.'])\n",
    "            ) for metric in metrics\n",
    "        ]\n",
    "        values += values[:1]  # Complete the circle\n",
    "        \n",
    "        # Plot filled area and line without markers\n",
    "        ax.fill(angles, values, color=colors[idx], alpha=0.15)\n",
    "        ax.plot(angles, values, '-', linewidth=2.5, label=model, color=colors[idx])\n",
    "\n",
    "    # Second pass: Plot markers on top\n",
    "    for idx, model in enumerate(models):\n",
    "        values = [\n",
    "            normalize_metric(\n",
    "                models_data[model][metric],\n",
    "                metric_ranges[metric][0],\n",
    "                metric_ranges[metric][1],\n",
    "                lower_is_better=(metric in ['Deviation', 'Frag.'])\n",
    "            ) for metric in metrics\n",
    "        ]\n",
    "        values += values[:1]\n",
    "        \n",
    "        # Plot only markers, with no clipping\n",
    "        ax.plot(angles, values, 'o', markersize=8, color=colors[idx],\n",
    "               markerfacecolor=colors[idx], markeredgecolor='white', \n",
    "               markeredgewidth=2, clip_on=False)\n",
    "    \n",
    "    # Add legend at the top\n",
    "    plt.legend(loc='upper center',\n",
    "              bbox_to_anchor=(0.5, 1.2),\n",
    "              fontsize=12,\n",
    "              frameon=True,\n",
    "              fancybox=False,\n",
    "              edgecolor='black',\n",
    "              framealpha=0.8,\n",
    "              ncol=6)  # Adjusted to 3 columns for better spacing\n",
    "    \n",
    "    # Set chart radius and add gridlines\n",
    "    ax.set_ylim(0, 1)\n",
    "    ax.grid(True, linestyle='--', alpha=0.3, color='gray')\n",
    "    \n",
    "    # Remove radial labels since we're using normalized values\n",
    "    ax.set_yticklabels([])\n",
    "    \n",
    "    # Add subtle circular gridlines\n",
    "    gridlines = np.linspace(0, 1, 5)\n",
    "    ax.set_rticks(gridlines)\n",
    "    \n",
    "    # Adjust layout with extra space for legend\n",
    "    plt.subplots_adjust(top=0.85)\n",
    "    \n",
    "    # Save figure\n",
    "    plt.savefig(os.path.join(fig_dir, figname),\n",
    "                dpi=300,\n",
    "                bbox_inches='tight')\n",
    "    plt.close()"
   ]
  },
  {
   "cell_type": "code",
   "execution_count": 20,
   "metadata": {},
   "outputs": [],
   "source": [
    "models_data = {\n",
    "    'SAM-Whistle': {\n",
    "        'Precision': 0.920,\n",
    "        'Recall': 0.876,\n",
    "        'F1': 0.897,\n",
    "        'Deviation': 133.69,\n",
    "        'Coverage': 0.89,\n",
    "        'Frag.': 1.15\n",
    "    },\n",
    "    'Deep-Whistle': {\n",
    "        'Precision': 0.916,\n",
    "        'Recall': 0.816,\n",
    "        'F1': 0.863,\n",
    "        'Deviation': 122.74,\n",
    "        'Coverage': 0.84,\n",
    "        'Frag.': 1.16\n",
    "    },\n",
    "    'FCN-Encoder': {\n",
    "        'Precision': 0.916,\n",
    "        'Recall': 0.580,\n",
    "        'F1': 0.710,\n",
    "        'Deviation': 175.56,\n",
    "        'Coverage': 0.86,\n",
    "        'Frag.': 1.92\n",
    "    },\n",
    "    'FCN-Spect': {\n",
    "        'Precision': 0.762,\n",
    "        'Recall': 0.735,\n",
    "        'F1': 0.748,\n",
    "        'Deviation': 128.26,\n",
    "        'Coverage': 0.81,\n",
    "        'Frag.': 1.19\n",
    "    },\n",
    "    'Graph Search': {\n",
    "        'Precision': 0.836,\n",
    "        'Recall': 0.648,\n",
    "        'F1': 0.730,\n",
    "        'Deviation': 103.40,\n",
    "        'Coverage': 0.77,\n",
    "        'Frag.': 1.27\n",
    "    }\n",
    "}\n",
    "plot_radar_metrics(models_data, 'imgs', 'tonal_metrics_radar.png', colors= husl_colors)"
   ]
  }
 ],
 "metadata": {
  "kernelspec": {
   "display_name": "sam_whistle",
   "language": "python",
   "name": "python3"
  },
  "language_info": {
   "codemirror_mode": {
    "name": "ipython",
    "version": 3
   },
   "file_extension": ".py",
   "mimetype": "text/x-python",
   "name": "python",
   "nbconvert_exporter": "python",
   "pygments_lexer": "ipython3",
   "version": "3.12.7"
  }
 },
 "nbformat": 4,
 "nbformat_minor": 2
}
